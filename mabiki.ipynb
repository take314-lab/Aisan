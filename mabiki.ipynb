{
  "nbformat": 4,
  "nbformat_minor": 0,
  "metadata": {
    "colab": {
      "name": "mabiki.ipynb",
      "provenance": [],
      "collapsed_sections": [],
      "authorship_tag": "ABX9TyOWN+YeI+vtrBg+lfCUXlk4",
      "include_colab_link": true
    },
    "kernelspec": {
      "name": "python3",
      "display_name": "Python 3"
    }
  },
  "cells": [
    {
      "cell_type": "markdown",
      "metadata": {
        "id": "view-in-github",
        "colab_type": "text"
      },
      "source": [
        "<a href=\"https://colab.research.google.com/github/take314-lab/Aisan/blob/master/mabiki.ipynb\" target=\"_parent\"><img src=\"https://colab.research.google.com/assets/colab-badge.svg\" alt=\"Open In Colab\"/></a>"
      ]
    },
    {
      "cell_type": "code",
      "metadata": {
        "id": "s7P40-pQZXmg",
        "colab_type": "code",
        "colab": {}
      },
      "source": [
        "#必要なモジュールをインポート\n",
        "import csv\n",
        "import numpy as np"
      ],
      "execution_count": 0,
      "outputs": []
    },
    {
      "cell_type": "code",
      "metadata": {
        "id": "sbifUl9eEw8U",
        "colab_type": "code",
        "colab": {}
      },
      "source": [
        "#定数の設定\n",
        "MABIKI = 2"
      ],
      "execution_count": 0,
      "outputs": []
    },
    {
      "cell_type": "code",
      "metadata": {
        "id": "Kw_u7VbME6JQ",
        "colab_type": "code",
        "colab": {}
      },
      "source": [
        "#アップロードしたファイルをrモードで開く\n",
        "#---aaa.csv---\n",
        "# a,  b,  c,\n",
        "# 1,  2,  3,\n",
        "# 4,  5,  6,\n",
        "# 7,  8,  9,\n",
        "#10,  11, 12,\n",
        "#13,  14, 15,\n",
        "#-------------\n",
        "with open('aaa.csv','r') as f:\n",
        "  #CSVファイルの中身をcsvモジュールのメソッドを使ってreaderに格納する\n",
        "  reader = csv.reader(f)\n",
        "  #CSV出力用の空リストを用意する\n",
        "  wrows = []\n",
        "  #読み込んだCSVを1行づつ処理する\n",
        "  for i,row in enumerate(reader):\n",
        "    #1行目の各カラムの名称は問答無用でwrowsに格納\n",
        "    if i == 0:\n",
        "      wrows.append(row)\n",
        "    #MABIKIの値につき1つの行のデータをひろってくる\n",
        "    elif i%MABIKI == 0:\n",
        "      #拾った行の値を2倍する\n",
        "      #マップ関数を用いてrowに一括でfloat処理を行い、リストに再格納する\n",
        "      row = list(map(float,row))\n",
        "      #2倍するという計算を簡単にするためにnumpyのArrayに変換する\n",
        "      arr_row = np.array(row)\n",
        "      #Arrayに*2をするとArrayの要素の値それぞれを2倍することになる\n",
        "      arr_row *= 2\n",
        "      #2倍した値をwrowsに格納する\n",
        "      wrows.append(arr_row)"
      ],
      "execution_count": 0,
      "outputs": []
    },
    {
      "cell_type": "code",
      "metadata": {
        "id": "mrfqfgGjFBCi",
        "colab_type": "code",
        "colab": {}
      },
      "source": [
        "#bbb.csvというファイルをwモードで開く(存在しない場合は自動生成される)\n",
        "with open('bbb.csv','w',newline='') as f:\n",
        "  #開いたファイルに対してcsvモジュールのメソッドを使ってwriterで書き込みできるようにする\n",
        "  writer = csv.writer(f)\n",
        "  #wrowsを一括で書き込む\n",
        "  writer.writerows(wrows)"
      ],
      "execution_count": 0,
      "outputs": []
    },
    {
      "cell_type": "code",
      "metadata": {
        "id": "-5SF3EUpFfFq",
        "colab_type": "code",
        "colab": {}
      },
      "source": [
        ""
      ],
      "execution_count": 0,
      "outputs": []
    }
  ]
}